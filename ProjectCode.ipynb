{
 "cells": [
  {
   "attachments": {},
   "cell_type": "markdown",
   "metadata": {},
   "source": [
    "PROJECT CODE"
   ]
  },
  {
   "attachments": {},
   "cell_type": "markdown",
   "metadata": {},
   "source": [
    "TASKS:\n",
    "\n",
    "1_Expansão com hidrolases - MEME and BLAST\n",
    "2_Features - NS Machine learning - Clustering and Kmers\n",
    "3_Functional Analysis - MOFA \n",
    "4_Estructural - Ensemble \n",
    "\n",
    "O que posso aplicar para a generalidade dos casos?\n"
   ]
  },
  {
   "cell_type": "code",
   "execution_count": 37,
   "metadata": {},
   "outputs": [],
   "source": [
    "# Blast\n",
    "\n",
    "from Bio.Blast.Applications import NcbiblastpCommandline\n",
    "\n",
    "# Arquivos de entrada\n",
    "initial_sequences_file = \"/Users/Sergiomendes/Desktop/Project/data/initial_sequences.fasta\"\n",
    "new_sequences_file = \"/Users/Sergiomendes/Desktop/Project/data/new_sequences.fasta\"\n",
    "output_file = \"/Users/Sergiomendes/Desktop/Project/data/blast_results.tsv\"\n",
    "\n",
    "# Remover o arquivo de saída, se existir\n",
    "if os.path.exists(output_file):\n",
    "    os.remove(output_file)\n",
    "\n",
    "# Executar o BLAST usando o package do Anaconda e gravar os resultados no arquivo blast_results.tsv\n",
    "blastp_cline = NcbiblastpCommandline(query=new_sequences_file, subject=initial_sequences_file, outfmt=6, out=output_file)\n",
    "stdout, stderr = blastp_cline()\n"
   ]
  },
  {
   "cell_type": "code",
   "execution_count": 18,
   "metadata": {},
   "outputs": [
    {
     "name": "stdout",
     "output_type": "stream",
     "text": [
      "Análise MEME concluída. Os resultados foram salvos no arquivo meme_results.txt.\n"
     ]
    }
   ],
   "source": [
    "#MEME\n",
    "\n",
    "\n",
    "# Arquivos de entrada\n",
    "initial_sequences_file = \"/Users/Sergiomendes/Desktop/Project/data/meme_input/merge.fasta\"\n",
    "output_file = \"/Users/Sergiomendes/Desktop/Project/data/meme_output\"\n",
    "\n",
    "import subprocess\n",
    "\n",
    "# Comando para executar o programa meme e redirecionar a saída para o arquivo\n",
    "command = [\"/opt/local/bin/meme\",initial_sequences_file, \"-nmotifs\", \"3\", \"-oc\", output_file]\n",
    "\n",
    "# Executar o comando\n",
    "subprocess.run(command)\n",
    "\n",
    "print(\"Análise MEME concluída. Os resultados foram salvos no arquivo meme_results.txt.\")\n",
    "\n"
   ]
  },
  {
   "cell_type": "code",
   "execution_count": null,
   "metadata": {},
   "outputs": [],
   "source": [
    "# EXPANSÃO DO DATASET\n",
    "\n",
    "import os\n",
    "from Bio import SeqIO\n",
    "import requests\n",
    "# Expandir o dataset negativo com mais casos negativos\n",
    "\n",
    "# Define os termos de busca e filtra por proteínas da classe hidrolase\n",
    "search_term = 'hidrolase'\n",
    "search_url = f'https://eutils.ncbi.nlm.nih.gov/entrez/eutils/esearch.fcgi?db=protein&term={search_term}&retmax=100000'\n",
    "search_result = requests.get(search_url).text\n",
    "id_list = search_result.split('<Id>')[1:]\n",
    "id_list = [id.split('</Id>')[0] for id in id_list]\n",
    "print(id_list)\n",
    "\n",
    "# Baixa as sequências das proteínas encontradas\n",
    "fetch_url = f'https://eutils.ncbi.nlm.nih.gov/entrez/eutils/efetch.fcgi?db=protein&id={id_list[0]}&rettype=fasta&retmode=text'\n",
    "print(fetch_url)\n",
    "print(requests.get(fetch_url).text)\n",
    "output_file=\"/Users/Sergiomendes/Desktop/Project/data/notPET.fasta\"\n",
    "\n",
    "# Grava as sequências em um arquivo FASTA na pasta desejada\n",
    "output_folder = '/Users/Sergiomendes/Desktop/Project/Code/data'\n",
    "with open(output_file, 'w') as f:\n",
    "    f.write(requests.get(fetch_url).text)"
   ]
  },
  {
   "cell_type": "code",
   "execution_count": 35,
   "metadata": {},
   "outputs": [
    {
     "data": {
      "image/png": "[encoded data removed]",
      "text/plain": [
       "<Figure size 432x288 with 1 Axes>"
      ]
     },
     "metadata": {
      "needs_background": "light"
     },
     "output_type": "display_data"
    }
   ],
   "source": [
    "# Clustering\n",
    "from Bio import SeqIO\n",
    "import pandas as pd\n",
    "from sklearn.decomposition import PCA\n",
    "\n",
    "def extract_descriptors(sequence):\n",
    "    # Replace this function with your own descriptor extraction logic for protein sequences\n",
    "    # This is just a placeholder\n",
    "    descriptor = [len(sequence), sequence.count('A'), sequence.count('C'),\n",
    "                  sequence.count('D'), sequence.count('E'), sequence.count('F'),\n",
    "                  sequence.count('G'), sequence.count('H'), sequence.count('I'),\n",
    "                  sequence.count('K'), sequence.count('L'), sequence.count('M'),\n",
    "                  sequence.count('N'), sequence.count('P'), sequence.count('Q'),\n",
    "                  sequence.count('R'), sequence.count('S'), sequence.count('T'),\n",
    "                  sequence.count('V'), sequence.count('W'), sequence.count('Y')]\n",
    "    return descriptor\n",
    "\n",
    "def create_dataframe(positive_file, negative_file):\n",
    "    positive_sequences = list(SeqIO.parse(positive_file, 'fasta'))\n",
    "    negative_sequences = list(SeqIO.parse(negative_file, 'fasta'))\n",
    "\n",
    "    sequences = positive_sequences + negative_sequences\n",
    "    labels = [0] * len(positive_sequences) + [1] * len(negative_sequences)\n",
    "    descriptors = [extract_descriptors(str(seq.seq)) for seq in sequences]\n",
    "\n",
    "    df = pd.DataFrame({'Label': labels, 'Descriptor': descriptors})\n",
    "    return df\n",
    "\n",
    "# Replace the filenames with your own\n",
    "positive_file = '/Users/Sergiomendes/Desktop/Project/data/meme_input/initial_sequences.fasta'\n",
    "negative_file = '/Users/Sergiomendes/Desktop/Project/data/notPET.fasta'\n",
    "\n",
    "df = create_dataframe(positive_file, negative_file)\n",
    "\n",
    "# Perform PCA\n",
    "pca = PCA(n_components=2)  # Set n_components to 2\n",
    "descriptors = df['Descriptor'].values.tolist()\n",
    "pca_result = pca.fit_transform(descriptors)\n",
    "\n",
    "# Add PCA results to DataFrame\n",
    "df['PC1'] = pca_result[:, 0]\n",
    "df['PC2'] = pca_result[:, 1]\n",
    "\n",
    "# Visualize PCA results\n",
    "labels = df['Label']\n",
    "pc1 = df['PC1']\n",
    "pc2 = df['PC2']\n",
    "\n",
    "plt.scatter(pc1[labels == 0], pc2[labels == 0], c='blue', label='Positive')\n",
    "plt.scatter(pc1[labels == 1], pc2[labels == 1], c='red', label='Negative')\n",
    "plt.xlabel('PC1')\n",
    "plt.ylabel('PC2')\n",
    "plt.title('PCA Visualization')\n",
    "plt.legend()\n",
    "plt.show()"
   ]
  },
  {
   "cell_type": "code",
   "execution_count": null,
   "metadata": {},
   "outputs": [],
   "source": [
    "# FUNCTIONAL ANALYSIS - MOFA\n",
    "\n",
    "import numpy as np\n",
    "from mofapy2.mofapy2 import MOFA\n",
    "from Bio import SeqIO\n",
    "from sklearn.preprocessing import OneHotEncoder\n",
    "\n",
    "# Carregar as sequências de proteínas do arquivo initial_sequences.fasta\n",
    "initial_sequences = []\n",
    "with open(inicial_sequences_file, \"r\") as initial_seq_file:\n",
    "    for record in SeqIO.parse(initial_seq_file, \"fasta\"):\n",
    "        initial_sequences.append(str(record.seq))\n",
    "\n",
    "# Carregar as sequências de proteínas do arquivo new_sequences.fasta\n",
    "new_sequences = []\n",
    "with open(new_sequences_file, \"r\") as new_seq_file:\n",
    "    for record in SeqIO.parse(new_seq_file, \"fasta\"):\n",
    "        new_sequences.append(str(record.seq))\n",
    "\n",
    "# Codificar as sequências de proteínas usando One-Hot Encoding\n",
    "encoder = OneHotEncoder(dtype=np.int8)\n",
    "protein_sequences = initial_sequences + new_sequences\n",
    "encoded_sequences = encoder.fit_transform(protein_sequences).toarray()\n",
    "\n",
    "# Preparar as características funcionais relevantes \n",
    "# Certificar que as características funcionais estão no formato adequado (variáveis numéricas ou categóricas)\n",
    "\n",
    "# Criar a matriz de dados para a análise MOFA\n",
    "X = np.array(encoded_sequences)\n",
    "\n",
    "# Configurar e executar o MOFA\n",
    "model = MOFA()\n",
    "model.set_data_matrix(X)\n",
    "model.fit(n_factors=3)  # Definir o número de fatores latentes desejado\n",
    "\n",
    "# Analisar os resultados do MOFA\n",
    "factors = model.get_factors()\n",
    "loadings = model.get_loadings()\n",
    "\n",
    "# Exemplo de impressão dos resultados\n",
    "for factor_idx, factor in enumerate(factors):\n",
    "    print(f\"Factor {factor_idx + 1}:\")\n",
    "    print(factor)\n",
    "    print(\"\")\n",
    "\n",
    "for loading_idx, loading in enumerate(loadings):\n",
    "    print(f\"Loading {loading_idx + 1}:\")\n",
    "    print(loading)\n",
    "    print(\"\")\n",
    "\n"
   ]
  },
  {
   "cell_type": "code",
   "execution_count": null,
   "metadata": {},
   "outputs": [],
   "source": [
    "# ESTRUCTURAL ANALYSIS - ENSEMBLE"
   ]
  },
  {
   "cell_type": "code",
   "execution_count": 34,
   "metadata": {},
   "outputs": [
    {
     "name": "stdout",
     "output_type": "stream",
     "text": [
      "['2192679634', '1200169718', '663497399']\n",
      "https://eutils.ncbi.nlm.nih.gov/entrez/eutils/efetch.fcgi?db=protein&id=2192679634&rettype=fasta&retmode=text\n",
      ">UKT59741.1 glycolsyl hidrolase family 10 [uncultured bacterium]\n",
      "MRKYNFKLFIILPCIALFLFMFPAWDPKTTPPDTKPKETDLPLLYTKWPFPVGAAAPNSAFSPNNGQHDL\n",
      "LNHFNVLVAENEMKPDALLPPSENGAYRWGNADALVNYAQAHNVKIRGHVLVWHNQTPAWFFAGSGADGL\n",
      "ATKEQLYARMENHIKAVFEKYGGKIGWWDVCNEVVGDDGNPRAVTSSNYTAIMVNSGLKNLNRYEYVLMA\n",
      "FQWARRYADANGGQNVKLYLNDYNIEYNGAKQSEFIKLVNWLIENDAPIDGIGIQCHIKWDWPSVAQISS\n",
      "AIDKFSAISRKDGVKLMTQITELDMSLFSSNETDFNGGHILLTLPDVMRERRLPAQAKKYRELFDMFKIK\n",
      "YEEKKLDMVLIWGLADGHSWLNNSPARGRTDYPLLFDRDYKPKQPYWELVK\n",
      "\n",
      "\n"
     ]
    }
   ],
   "source": [
    "# EXPANSÃO DO DATASET\n",
    "\n",
    "import os\n",
    "from Bio import SeqIO\n",
    "import requests\n",
    "# Expandir o dataset negativo com mais casos negativos\n",
    "\n",
    "# Define os termos de busca e filtra por proteínas da classe hidrolase\n",
    "search_term = 'hidrolase'\n",
    "search_url = f'https://eutils.ncbi.nlm.nih.gov/entrez/eutils/esearch.fcgi?db=protein&term={search_term}&retmax=100000'\n",
    "search_result = requests.get(search_url).text\n",
    "id_list = search_result.split('<Id>')[1:]\n",
    "id_list = [id.split('</Id>')[0] for id in id_list]\n",
    "print(id_list)\n",
    "\n",
    "# Baixa as sequências das proteínas encontradas\n",
    "fetch_url = f'https://eutils.ncbi.nlm.nih.gov/entrez/eutils/efetch.fcgi?db=protein&id={id_list[0]}&rettype=fasta&retmode=text'\n",
    "print(fetch_url)\n",
    "print(requests.get(fetch_url).text)\n",
    "output_file=\"/Users/Sergiomendes/Desktop/Project/data/testNotPET.fasta\"\n",
    "\n",
    "# Grava as sequências em um arquivo FASTA na pasta desejada\n",
    "output_folder = '/Users/Sergiomendes/Desktop/Project/Code/data'\n",
    "with open(output_file, 'w') as f:\n",
    "    f.write(requests.get(fetch_url).text)\n",
    "\n"
   ]
  }
 ],
 "metadata": {
  "kernelspec": {
   "display_name": "base",
   "language": "python",
   "name": "python3"
  },
  "language_info": {
   "codemirror_mode": {
    "name": "ipython",
    "version": 3
   },
   "file_extension": ".py",
   "mimetype": "text/x-python",
   "name": "python",
   "nbconvert_exporter": "python",
   "pygments_lexer": "ipython3",
   "version": "3.8.8"
  },
  "orig_nbformat": 4,
  "vscode": {
   "interpreter": {
    "hash": "40d3a090f54c6569ab1632332b64b2c03c39dcf918b08424e98f38b5ae0af88f"
   }
  }
 },
 "nbformat": 4,
 "nbformat_minor": 2
}
