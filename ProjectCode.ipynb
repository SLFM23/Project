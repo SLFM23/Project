{
 "cells": [
  {
   "attachments": {},
   "cell_type": "markdown",
   "metadata": {},
   "source": [
    "PROJECT CODE"
   ]
  },
  {
   "attachments": {},
   "cell_type": "markdown",
   "metadata": {},
   "source": [
    "TASKS:\n",
    "\n",
    "1_Expansão com hidrolases - MEME and BLAST\n",
    "2_Features - NS Machine learning - Clustering and Kmers\n",
    "3_Functional Analysis - MOFA \n",
    "4_Estructural - Ensemble \n",
    "\n",
    "O que posso aplicar para a generalidade dos casos?\n"
   ]
  },
  {
   "cell_type": "code",
   "execution_count": 14,
   "metadata": {},
   "outputs": [],
   "source": [
    "# Blast\n",
    "import os\n",
    "import pandas as pd\n",
    "from Bio.Blast.Applications import NcbiblastpCommandline\n",
    "\n",
    "# Arquivos de entrada\n",
    "initial_sequences_file = \"/Users/Sergiomendes/Desktop/Project/data/meme_input/initial_sequences.fasta\"\n",
    "new_sequences_file = \"/Users/Sergiomendes/Desktop/Project/data/meme_input/new_sequences.fasta\"\n",
    "output_file = \"/Users/Sergiomendes/Desktop/Project/data/blast_results.tsv\"\n",
    "\n",
    "# Remover o arquivo de saída, se existir\n",
    "if os.path.exists(output_file):\n",
    "    os.remove(output_file)\n",
    "\n",
    "# Executar o BLAST usando o package do Anaconda e gravar os resultados no arquivo blast_results.tsv\n",
    "blastp_cline = NcbiblastpCommandline(query=new_sequences_file, subject=initial_sequences_file, outfmt=6, out=output_file, evalue=0.45)\n",
    "stdout, stderr = blastp_cline()\n",
    "\n",
    "# Definir os cabeçalhos das colunas\n",
    "column_headers = ['Query ID', 'Subject ID', 'Percent Identity', 'Alignment Length', 'Mismatches', 'Gap Openings',\n",
    "                  'Query Start', 'Query End', 'Subject Start', 'Subject End', 'E-Value', 'Bit Score']\n",
    "\n",
    "# Ler o arquivo de saída do BLAST\n",
    "blast_results = pd.read_csv(output_file, sep='\\t', header=None)\n",
    "\n",
    "# Adicionar os cabeçalhos às colunas do DataFrame\n",
    "blast_results.columns = column_headers\n",
    "\n",
    "# Salvar o DataFrame com os cabeçalhos no arquivo de saída\n",
    "blast_results.to_csv(output_file, sep='\\t', index=False)\n"
   ]
  },
  {
   "cell_type": "code",
   "execution_count": 36,
   "metadata": {},
   "outputs": [
    {
     "data": {
      "text/plain": [
       "CompletedProcess(args=['/opt/local/bin/meme', '/Users/Sergiomendes/Desktop/Project/data/meme_input/merge_sequences.fasta', '-nmotifs', '3', '-oc', '/Users/Sergiomendes/Desktop/Project/data/meme_output'], returncode=0)"
      ]
     },
     "execution_count": 36,
     "metadata": {},
     "output_type": "execute_result"
    }
   ],
   "source": [
    "#MEME\n",
    "\n",
    "# Arquivos de entrada\n",
    "sequences_file = \"/Users/Sergiomendes/Desktop/Project/data/meme_input/merge_sequences.fasta\"\n",
    "output_file = \"/Users/Sergiomendes/Desktop/Project/data/meme_output\"\n",
    "\n",
    "import subprocess\n",
    "\n",
    "# Comando para executar o programa meme e redirecionar a saída para o arquivo\n",
    "command = [\"/opt/local/bin/meme\",sequences_file, \"-nmotifs\", \"3\", \"-oc\", output_file]\n",
    "\n",
    "# Executar o comando\n",
    "subprocess.run(command)\n"
   ]
  },
  {
   "cell_type": "code",
   "execution_count": 35,
   "metadata": {},
   "outputs": [
    {
     "name": "stdout",
     "output_type": "stream",
     "text": [
      "Counter({1: 100, 0: 45})\n",
      "Counter({0: 100, 1: 100})\n"
     ]
    },
    {
     "name": "stderr",
     "output_type": "stream",
     "text": [
      "/opt/anaconda3/lib/python3.8/site-packages/sklearn/cluster/_kmeans.py:870: FutureWarning: The default value of `n_init` will change from 10 to 'auto' in 1.4. Set the value of `n_init` explicitly to suppress the warning\n",
      "  warnings.warn(\n"
     ]
    },
    {
     "data": {
      "image/png": "[encoded data removed]",
      "text/plain": [
       "<Figure size 432x288 with 1 Axes>"
      ]
     },
     "metadata": {
      "needs_background": "light"
     },
     "output_type": "display_data"
    }
   ],
   "source": []
  },
  {
   "cell_type": "code",
   "execution_count": 3,
   "metadata": {},
   "outputs": [
    {
     "name": "stdout",
     "output_type": "stream",
     "text": [
      "Counter({1: 100, 0: 45})\n",
      "Counter({0: 100, 1: 100})\n"
     ]
    },
    {
     "data": {
      "image/png": "[encoded data removed]",
      "text/plain": [
       "<Figure size 432x288 with 1 Axes>"
      ]
     },
     "metadata": {
      "needs_background": "light"
     },
     "output_type": "display_data"
    },
    {
     "data": {
      "text/plain": [
       "<Figure size 432x288 with 0 Axes>"
      ]
     },
     "metadata": {},
     "output_type": "display_data"
    }
   ],
   "source": [
    "from Bio import SeqIO\n",
    "import pandas as pd\n",
    "from sklearn.decomposition import PCA\n",
    "from imblearn.over_sampling import SMOTE\n",
    "import matplotlib.pyplot as plt\n",
    "from collections import Counter\n",
    "from numpy import where\n",
    "from sklearn.preprocessing import StandardScaler\n",
    "\n",
    "# Extrair os descritores\n",
    "def extract_descriptors(sequence):\n",
    "    descriptor = [len(sequence), sequence.count('A'), sequence.count('C'),\n",
    "                  sequence.count('D'), sequence.count('E'), sequence.count('F'),\n",
    "                  sequence.count('G'), sequence.count('H'), sequence.count('I'),\n",
    "                  sequence.count('K'), sequence.count('L'), sequence.count('M'),\n",
    "                  sequence.count('N'), sequence.count('P'), sequence.count('Q'),\n",
    "                  sequence.count('R'), sequence.count('S'), sequence.count('T'),\n",
    "                  sequence.count('V'), sequence.count('W'), sequence.count('Y')]\n",
    "    return descriptor\n",
    "\n",
    "# Construir o dataframe\n",
    "def create_dataframe(positive_file, negative_file):\n",
    "    positive_sequences = list(SeqIO.parse(positive_file, 'fasta'))\n",
    "    negative_sequences = list(SeqIO.parse(negative_file, 'fasta'))\n",
    "\n",
    "    sequences = positive_sequences + negative_sequences\n",
    "    labels = [0] * len(positive_sequences) + [1] * len(negative_sequences)\n",
    "    descriptors = [extract_descriptors(str(seq.seq)) for seq in sequences]\n",
    "\n",
    "    df = pd.DataFrame({'Label': labels, 'Descriptor': descriptors})\n",
    "    return df\n",
    "\n",
    "\n",
    "positive_file = '/Users/Sergiomendes/Desktop/Project/data/meme_input/new_sequences.fasta'\n",
    "negative_file = '/Users/Sergiomendes/Desktop/Project/data/notPET.fasta'\n",
    "\n",
    "df = create_dataframe(positive_file, negative_file)\n",
    "\n",
    "# Normalização dos dados\n",
    "scaler = StandardScaler()\n",
    "descriptors = df['Descriptor'].values.tolist()\n",
    "descriptors_scaled = scaler.fit_transform(descriptors)\n",
    "\n",
    "# Executar PCA\n",
    "pca = PCA(n_components=2)  # Set n_components to 2\n",
    "pca_result = pca.fit_transform(descriptors_scaled)\n",
    "\n",
    "# Adicionar os resultados ao dataframe\n",
    "df['PC1'] = pca_result[:, 0]\n",
    "df['PC2'] = pca_result[:, 1]\n",
    "\n",
    "# Extrair os valores de significância\n",
    "explained_variance_ratio = pca.explained_variance_ratio_\n",
    "\n",
    "# Extrair features e labels\n",
    "X = df[['PC1', 'PC2']].values\n",
    "y = df['Label'].values\n",
    "\n",
    "# Sumarizar a distribuição de classes\n",
    "counter = Counter(y)\n",
    "print(counter)\n",
    "\n",
    "# Aplicar SMOTE de modo a gerar amostras sintéticas para os casos negativos\n",
    "oversample = SMOTE()\n",
    "X_resampled, y_resampled = oversample.fit_resample(X, y)\n",
    "\n",
    "# Sumarizar a nova distribuição de classes\n",
    "counter = Counter(y_resampled)\n",
    "print(counter)\n",
    "\n",
    "# Mapeamento das labels para as legendas desejadas\n",
    "label_legend_mapping = {0: 'Positive', 1: 'Negative'}\n",
    "\n",
    "# Visualizar o gráfico de dispersão \n",
    "for label, _ in counter.items():\n",
    "    row_ix = where(y_resampled == label)[0]\n",
    "    plt.scatter(X_resampled[row_ix, 0], X_resampled[row_ix, 1], label=label_legend_mapping[label])\n",
    "\n",
    "# Título\n",
    "plt.title('Hydrolase PCA')\n",
    "\n",
    "# Legenda do eixo X\n",
    "plt.xlabel('PC1')\n",
    "plt.xticks(fontsize=8)\n",
    "\n",
    "# Legenda do eixo Y\n",
    "plt.ylabel('PC2')\n",
    "plt.yticks(fontsize=8)\n",
    "\n",
    "# Eixos X e Y\n",
    "plt.axhline(0, color='black', linewidth=0.5)\n",
    "plt.axvline(0, color='black', linewidth=0.5)\n",
    "\n",
    "# Adicionar os valores de significância nos eixos\n",
    "plt.xlabel(f'PC1 (Significance: {explained_variance_ratio[0]:.2f})')\n",
    "plt.xticks(fontsize=8)\n",
    "plt.ylabel(f'PC2 (Significance: {explained_variance_ratio[1]:.2f})')\n",
    "plt.yticks(fontsize=8)\n",
    "plt.legend()\n",
    "\n",
    "plt.show()\n",
    "\n",
    "# Salvar o gráfico\n",
    "save_path = '/Users/Sergiomendes/Desktop/Project/data/clustering_result.png'\n",
    "plt.savefig(save_path)\n"
   ]
  },
  {
   "cell_type": "code",
   "execution_count": 2,
   "metadata": {},
   "outputs": [],
   "source": [
    "#FUNCTIONAL ANALYSIS - KEGG\n",
    "\n",
    "import requests\n",
    "from Bio import SeqIO\n",
    "from Bio.SeqUtils.ProtParam import ProteinAnalysis\n",
    "\n",
    "merge_sequences_file = \"/Users/Sergiomendes/Desktop/Project/data/meme_input/new_sequences.fasta\"\n",
    "output_file = \"/Users/Sergiomendes/Desktop/Project/data/KEGG_output.txt\"\n",
    "\n",
    "# Carregar as sequências de proteínas do arquivo fasta\n",
    "sequences = []\n",
    "with open(merge_sequences_file, 'r') as fasta_file:\n",
    "    for record in SeqIO.parse(fasta_file, 'fasta'):\n",
    "        sequences.append(str(record.seq))\n",
    "\n",
    "# Anotação funcional das sequências usando KEGG\n",
    "with open(output_file, 'w') as output:\n",
    "    for sequence in sequences:\n",
    "        protein = ProteinAnalysis(sequence)\n",
    "\n",
    "        # Exemplo: cálculo da composição de aminoácidos\n",
    "        composition = protein.get_amino_acids_percent()\n",
    "\n",
    "        # Exemplo: pesquisa de vias metabólicas relacionadas a PET degradation\n",
    "        pathway_response = requests.get(f\"http://rest.kegg.jp/find/genes/{protein.sequence}\")\n",
    "        pathway_results = pathway_response.text\n",
    "\n",
    "        # Exemplo: pesquisa de anotações funcionais no KEGG Orthology (KO)\n",
    "        ko_response = requests.get(f\"http://rest.kegg.jp/link/ko/{protein.sequence}\")\n",
    "        ko_results = ko_response.text\n",
    "\n",
    "        # Escrever os resultados no arquivo de saída\n",
    "        output.write(f\"Composição de aminoácidos: {composition}\\n\")\n",
    "        output.write(f\"Vias metabólicas relacionadas: {pathway_results}\\n\")\n",
    "        output.write(f\"Anotações funcionais (KO): {ko_results}\\n\")\n",
    "        output.write(\"---\\n\")\n"
   ]
  },
  {
   "cell_type": "code",
   "execution_count": 2,
   "metadata": {},
   "outputs": [
    {
     "ename": "KeyboardInterrupt",
     "evalue": "",
     "output_type": "error",
     "traceback": [
      "\u001b[0;31m---------------------------------------------------------------------------\u001b[0m",
      "\u001b[0;31mKeyboardInterrupt\u001b[0m                         Traceback (most recent call last)",
      "\u001b[0;32m<ipython-input-2-aafdb71531c2>\u001b[0m in \u001b[0;36m<module>\u001b[0;34m\u001b[0m\n\u001b[1;32m     29\u001b[0m \u001b[0;31m#Example usage\u001b[0m\u001b[0;34m\u001b[0m\u001b[0;34m\u001b[0m\u001b[0;34m\u001b[0m\u001b[0m\n\u001b[1;32m     30\u001b[0m \u001b[0mfasta_file\u001b[0m \u001b[0;34m=\u001b[0m \u001b[0;34m\"/Users/Sergiomendes/Desktop/Project/data/meme_input/new_sequences.fasta\"\u001b[0m  \u001b[0;31m# Replace with your FASTA file path\u001b[0m\u001b[0;34m\u001b[0m\u001b[0;34m\u001b[0m\u001b[0m\n\u001b[0;32m---> 31\u001b[0;31m \u001b[0mannotations\u001b[0m \u001b[0;34m=\u001b[0m \u001b[0mblastkoala_annotation\u001b[0m\u001b[0;34m(\u001b[0m\u001b[0mfasta_file\u001b[0m\u001b[0;34m)\u001b[0m\u001b[0;34m\u001b[0m\u001b[0;34m\u001b[0m\u001b[0m\n\u001b[0m\u001b[1;32m     32\u001b[0m \u001b[0;34m\u001b[0m\u001b[0m\n\u001b[1;32m     33\u001b[0m \u001b[0;31m#Print the annotations\u001b[0m\u001b[0;34m\u001b[0m\u001b[0;34m\u001b[0m\u001b[0;34m\u001b[0m\u001b[0m\n",
      "\u001b[0;32m<ipython-input-2-aafdb71531c2>\u001b[0m in \u001b[0;36mblastkoala_annotation\u001b[0;34m(fasta_file)\u001b[0m\n\u001b[1;32m     11\u001b[0m     \u001b[0;32mfor\u001b[0m \u001b[0msequence\u001b[0m \u001b[0;32min\u001b[0m \u001b[0msequences\u001b[0m\u001b[0;34m:\u001b[0m\u001b[0;34m\u001b[0m\u001b[0;34m\u001b[0m\u001b[0m\n\u001b[1;32m     12\u001b[0m         \u001b[0;31m# Perform BLAST search against KEGG database\u001b[0m\u001b[0;34m\u001b[0m\u001b[0;34m\u001b[0m\u001b[0;34m\u001b[0m\u001b[0m\n\u001b[0;32m---> 13\u001b[0;31m         \u001b[0mresult_handle\u001b[0m \u001b[0;34m=\u001b[0m \u001b[0mNCBIWWW\u001b[0m\u001b[0;34m.\u001b[0m\u001b[0mqblast\u001b[0m\u001b[0;34m(\u001b[0m\u001b[0;34m\"blastp\"\u001b[0m\u001b[0;34m,\u001b[0m \u001b[0;34m\"ko\"\u001b[0m\u001b[0;34m,\u001b[0m \u001b[0msequence\u001b[0m\u001b[0;34m.\u001b[0m\u001b[0mseq\u001b[0m\u001b[0;34m)\u001b[0m\u001b[0;34m\u001b[0m\u001b[0;34m\u001b[0m\u001b[0m\n\u001b[0m\u001b[1;32m     14\u001b[0m         \u001b[0mprint\u001b[0m\u001b[0;34m(\u001b[0m\u001b[0;34m'KKKKKKKKKKK'\u001b[0m\u001b[0;34m)\u001b[0m\u001b[0;34m\u001b[0m\u001b[0;34m\u001b[0m\u001b[0m\n\u001b[1;32m     15\u001b[0m \u001b[0;34m\u001b[0m\u001b[0m\n",
      "\u001b[0;32m/opt/anaconda3/lib/python3.8/site-packages/Bio/Blast/NCBIWWW.py\u001b[0m in \u001b[0;36mqblast\u001b[0;34m(program, database, sequence, url_base, auto_format, composition_based_statistics, db_genetic_code, endpoints, entrez_query, expect, filter, gapcosts, genetic_code, hitlist_size, i_thresh, layout, lcase_mask, matrix_name, nucl_penalty, nucl_reward, other_advanced, perc_ident, phi_pattern, query_file, query_believe_defline, query_from, query_to, searchsp_eff, service, threshold, ungapped_alignment, word_size, short_query, alignments, alignment_view, descriptions, entrez_links_new_window, expect_low, expect_high, format_entrez_query, format_object, format_type, ncbi_gi, results_file, show_overview, megablast, template_type, template_length, username, password)\u001b[0m\n\u001b[1;32m    266\u001b[0m         \u001b[0mwait\u001b[0m \u001b[0;34m=\u001b[0m \u001b[0mqblast\u001b[0m\u001b[0;34m.\u001b[0m\u001b[0m_previous\u001b[0m \u001b[0;34m+\u001b[0m \u001b[0mdelay\u001b[0m \u001b[0;34m-\u001b[0m \u001b[0mcurrent\u001b[0m\u001b[0;34m\u001b[0m\u001b[0;34m\u001b[0m\u001b[0m\n\u001b[1;32m    267\u001b[0m         \u001b[0;32mif\u001b[0m \u001b[0mwait\u001b[0m \u001b[0;34m>\u001b[0m \u001b[0;36m0\u001b[0m\u001b[0;34m:\u001b[0m\u001b[0;34m\u001b[0m\u001b[0;34m\u001b[0m\u001b[0m\n\u001b[0;32m--> 268\u001b[0;31m             \u001b[0mtime\u001b[0m\u001b[0;34m.\u001b[0m\u001b[0msleep\u001b[0m\u001b[0;34m(\u001b[0m\u001b[0mwait\u001b[0m\u001b[0;34m)\u001b[0m\u001b[0;34m\u001b[0m\u001b[0;34m\u001b[0m\u001b[0m\n\u001b[0m\u001b[1;32m    269\u001b[0m             \u001b[0mqblast\u001b[0m\u001b[0;34m.\u001b[0m\u001b[0m_previous\u001b[0m \u001b[0;34m=\u001b[0m \u001b[0mcurrent\u001b[0m \u001b[0;34m+\u001b[0m \u001b[0mwait\u001b[0m\u001b[0;34m\u001b[0m\u001b[0;34m\u001b[0m\u001b[0m\n\u001b[1;32m    270\u001b[0m         \u001b[0;32melse\u001b[0m\u001b[0;34m:\u001b[0m\u001b[0;34m\u001b[0m\u001b[0;34m\u001b[0m\u001b[0m\n",
      "\u001b[0;31mKeyboardInterrupt\u001b[0m: "
     ]
    }
   ],
   "source": [
    "# FUNCTIONAL ANALYSIS - KEGG - KOALA\n",
    "\n",
    "from Bio.Blast import NCBIWWW, NCBIXML\n",
    "from Bio import SeqIO\n",
    "\n",
    "def blastkoala_annotation(fasta_file):\n",
    "    # Ler o ficheiro fasta\n",
    "    sequences = SeqIO.parse(fasta_file, \"fasta\")\n",
    "\n",
    "    annotations = []\n",
    "\n",
    "# Executa um BLAST para cada sequencia\n",
    "    for sequence in sequences:\n",
    "        # BLAST search contra KEGG DB\n",
    "        result_handle = NCBIWWW.qblast(\"blastp\", \"ko\", sequence.seq)\n",
    "        print('KKKKKKKKKKK')\n",
    "\n",
    "# Analisar o output\n",
    "        blast_record = NCBIXML.read(result_handle)\n",
    "\n",
    "# Extrair o melhor hit\n",
    "        if blast_record.alignments:\n",
    "            alignment = blast_record.alignments[0]\n",
    "            hit_def = alignment.hit_def\n",
    "            annotations.append((sequence.id, hit_def))\n",
    "        else:\n",
    "            annotations.append((sequence.id, \"No hit found\"))\n",
    "\n",
    "    return annotations\n",
    "\n",
    "\n",
    "fasta_file = \"/Users/Sergiomendes/Desktop/Project/data/meme_input/new_sequences.fasta\"  \n",
    "annotations = blastkoala_annotation(fasta_file)\n",
    "\n",
    "# Print das anotações\n",
    "for sequence_id, annotation in annotations:\n",
    "    print(f\"Sequence ID: {sequence_id}\\tAnnotation: {annotation}\")\n"
   ]
  },
  {
   "cell_type": "code",
   "execution_count": null,
   "metadata": {},
   "outputs": [],
   "source": [
    "# ESTRUCTURAL ANALYSIS EVcouplings\n",
    "import subprocess\n",
    "\n",
    "EVTest_file = \"/Users/Sergiomendes/Desktop/Project/data/EVcouplings_TestFile.fasta\"\n",
    "def evcouplings_analysis(fasta_file):\n",
    "    # Executa o  EVcouplings na linha de comandos\n",
    "    command = f\"evcouplings {fasta_file} --method=plmc\"\n",
    "    output = subprocess.check_output(command, shell=True).decode('utf-8')\n",
    "\n",
    "    # Extração da informação resultante do output\n",
    "    lines = output.strip().split('\\n')\n",
    "    family_info = {}\n",
    "    for line in lines:\n",
    "        if line.startswith('SEQUENCE'):\n",
    "            sequence_id, family = line.split('\\t')\n",
    "            family_info[sequence_id] = family\n",
    "    \n",
    "    return family_info\n",
    "\n",
    "# Executar o comando\n",
    "family_info = evcouplings_analysis(EVTest_file)\n",
    "\n",
    "# Print do output\n",
    "for sequence_id, family in family_info.items():\n",
    "    print(f\"Sequence ID: {sequence_id}\\tFamily: {family}\")\n",
    "\n",
    "\n"
   ]
  }
 ],
 "metadata": {
  "kernelspec": {
   "display_name": "base",
   "language": "python",
   "name": "python3"
  },
  "language_info": {
   "codemirror_mode": {
    "name": "ipython",
    "version": 3
   },
   "file_extension": ".py",
   "mimetype": "text/x-python",
   "name": "python",
   "nbconvert_exporter": "python",
   "pygments_lexer": "ipython3",
   "version": "3.8.8"
  },
  "orig_nbformat": 4,
  "vscode": {
   "interpreter": {
    "hash": "40d3a090f54c6569ab1632332b64b2c03c39dcf918b08424e98f38b5ae0af88f"
   }
  }
 },
 "nbformat": 4,
 "nbformat_minor": 2
}
