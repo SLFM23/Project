{
 "cells": [
  {
   "cell_type": "code",
   "execution_count": 2,
   "metadata": {},
   "outputs": [
    {
     "name": "stdout",
     "output_type": "stream",
     "text": [
      "Counter({1: 100, 0: 45})\n",
      "Counter({0: 100, 1: 100})\n"
     ]
    },
    {
     "data": {
      "image/png": "[encoded data removed]",
      "text/plain": [
       "<Figure size 432x288 with 1 Axes>"
      ]
     },
     "metadata": {
      "needs_background": "light"
     },
     "output_type": "display_data"
    }
   ],
   "source": [
    "from Bio import SeqIO\n",
    "import pandas as pd\n",
    "from sklearn.decomposition import PCA\n",
    "from imblearn.over_sampling import SMOTE\n",
    "import matplotlib.pyplot as plt\n",
    "from collections import Counter\n",
    "from numpy import where\n",
    "from sklearn.preprocessing import StandardScaler\n",
    "\n",
    "# Extrair os descritores\n",
    "def extract_descriptors(sequence):\n",
    "    descriptor = [len(sequence), sequence.count('A'), sequence.count('C'),\n",
    "                  sequence.count('D'), sequence.count('E'), sequence.count('F'),\n",
    "                  sequence.count('G'), sequence.count('H'), sequence.count('I'),\n",
    "                  sequence.count('K'), sequence.count('L'), sequence.count('M'),\n",
    "                  sequence.count('N'), sequence.count('P'), sequence.count('Q'),\n",
    "                  sequence.count('R'), sequence.count('S'), sequence.count('T'),\n",
    "                  sequence.count('V'), sequence.count('W'), sequence.count('Y')]\n",
    "    return descriptor\n",
    "\n",
    "# Construir o dataframe\n",
    "def create_dataframe(positive_file, negative_file):\n",
    "    positive_sequences = list(SeqIO.parse(positive_file, 'fasta'))\n",
    "    negative_sequences = list(SeqIO.parse(negative_file, 'fasta'))\n",
    "\n",
    "    sequences = positive_sequences + negative_sequences\n",
    "    labels = [0] * len(positive_sequences) + [1] * len(negative_sequences)\n",
    "    descriptors = [extract_descriptors(str(seq.seq)) for seq in sequences]\n",
    "\n",
    "    df = pd.DataFrame({'Label': labels, 'Descriptor': descriptors})\n",
    "    return df\n",
    "\n",
    "\n",
    "positive_file = '/Users/Sergiomendes/Desktop/Project/data/meme_input/new_sequences.fasta'\n",
    "negative_file = '/Users/Sergiomendes/Desktop/Project/data/notPET.fasta'\n",
    "\n",
    "df = create_dataframe(positive_file, negative_file)\n",
    "\n",
    "# Normalização dos dados\n",
    "scaler = StandardScaler()\n",
    "descriptors = df['Descriptor'].values.tolist()\n",
    "descriptors_scaled = scaler.fit_transform(descriptors)\n",
    "\n",
    "# Executar PCA\n",
    "pca = PCA(n_components=2)  # Set n_components to 2\n",
    "pca_result = pca.fit_transform(descriptors_scaled)\n",
    "\n",
    "# Adicionar os resultados ao dataframe\n",
    "df['PC1'] = pca_result[:, 0]\n",
    "df['PC2'] = pca_result[:, 1]\n",
    "\n",
    "# Extrair os valores de significância\n",
    "explained_variance_ratio = pca.explained_variance_ratio_\n",
    "\n",
    "# Extrair features e labels\n",
    "X = df[['PC1', 'PC2']].values\n",
    "y = df['Label'].values\n",
    "\n",
    "# Sumarizar a distribuição de classes\n",
    "counter = Counter(y)\n",
    "print(counter)\n",
    "\n",
    "# Aplicar SMOTE de modo a gerar amostras sintéticas para os casos negativos\n",
    "oversample = SMOTE()\n",
    "X_resampled, y_resampled = oversample.fit_resample(X, y)\n",
    "\n",
    "# Sumarizar a nova distribuição de classes\n",
    "counter = Counter(y_resampled)\n",
    "print(counter)\n",
    "\n",
    "# Mapeamento das labels para as legendas desejadas\n",
    "label_legend_mapping = {0: 'Positive', 1: 'Negative'}\n",
    "\n",
    "# Visualizar o gráfico de dispersão \n",
    "for label, _ in counter.items():\n",
    "    row_ix = where(y_resampled == label)[0]\n",
    "    plt.scatter(X_resampled[row_ix, 0], X_resampled[row_ix, 1], label=label_legend_mapping[label])\n",
    "\n",
    "# Título\n",
    "plt.title('Hydrolase PCA')\n",
    "\n",
    "# Legenda do eixo X\n",
    "plt.xlabel('PC1')\n",
    "plt.xticks(fontsize=8)\n",
    "\n",
    "# Legenda do eixo Y\n",
    "plt.ylabel('PC2')\n",
    "plt.yticks(fontsize=8)\n",
    "\n",
    "# Eixos X e Y\n",
    "plt.axhline(0, color='black', linewidth=0.5)\n",
    "plt.axvline(0, color='black', linewidth=0.5)\n",
    "\n",
    "# Adicionar os valores de significância nos eixos\n",
    "plt.xlabel(f'PC1 (Significance: {explained_variance_ratio[0]:.2f})')\n",
    "plt.xticks(fontsize=8)\n",
    "plt.ylabel(f'PC2 (Significance: {explained_variance_ratio[1]:.2f})')\n",
    "plt.yticks(fontsize=8)\n",
    "plt.legend()\n",
    "\n",
    "plt.show()\n"
   ]
  }
 ],
 "metadata": {
  "kernelspec": {
   "display_name": "base",
   "language": "python",
   "name": "python3"
  },
  "language_info": {
   "codemirror_mode": {
    "name": "ipython",
    "version": 3
   },
   "file_extension": ".py",
   "mimetype": "text/x-python",
   "name": "python",
   "nbconvert_exporter": "python",
   "pygments_lexer": "ipython3",
   "version": "3.8.8"
  },
  "orig_nbformat": 4
 },
 "nbformat": 4,
 "nbformat_minor": 2
}
